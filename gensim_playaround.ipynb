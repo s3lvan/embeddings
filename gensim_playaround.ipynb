{
 "cells": [
  {
   "cell_type": "code",
   "execution_count": 8,
   "id": "e38d1e0d",
   "metadata": {},
   "outputs": [],
   "source": [
    "import gensim.downloader as api\n",
    "import pandas as pd"
   ]
  },
  {
   "cell_type": "markdown",
   "id": "66e6c4ee",
   "metadata": {},
   "source": [
    "# Pretrained Embeddings"
   ]
  },
  {
   "cell_type": "code",
   "execution_count": 9,
   "id": "68c15aa9",
   "metadata": {},
   "outputs": [
    {
     "data": {
      "text/plain": [
       "['semeval-2016-2017-task3-subtaskBC',\n",
       " 'semeval-2016-2017-task3-subtaskA-unannotated',\n",
       " 'patent-2017',\n",
       " 'quora-duplicate-questions',\n",
       " 'wiki-english-20171001',\n",
       " 'text8',\n",
       " 'fake-news',\n",
       " '20-newsgroups',\n",
       " '__testing_matrix-synopsis',\n",
       " '__testing_multipart-matrix-synopsis',\n",
       " 'fasttext-wiki-news-subwords-300',\n",
       " 'conceptnet-numberbatch-17-06-300',\n",
       " 'word2vec-ruscorpora-300',\n",
       " 'word2vec-google-news-300',\n",
       " 'glove-wiki-gigaword-50',\n",
       " 'glove-wiki-gigaword-100',\n",
       " 'glove-wiki-gigaword-200',\n",
       " 'glove-wiki-gigaword-300',\n",
       " 'glove-twitter-25',\n",
       " 'glove-twitter-50',\n",
       " 'glove-twitter-100',\n",
       " 'glove-twitter-200',\n",
       " '__testing_word2vec-matrix-synopsis']"
      ]
     },
     "execution_count": 9,
     "metadata": {},
     "output_type": "execute_result"
    }
   ],
   "source": [
    "list(pd.DataFrame(api.info()).index)"
   ]
  },
  {
   "cell_type": "code",
   "execution_count": 10,
   "id": "b330200f",
   "metadata": {},
   "outputs": [],
   "source": [
    "# Word to vec example"
   ]
  },
  {
   "cell_type": "code",
   "execution_count": 11,
   "id": "d77c9e2d",
   "metadata": {},
   "outputs": [
    {
     "name": "stdout",
     "output_type": "stream",
     "text": [
      "[==================================================] 100.0% 1662.8/1662.8MB downloaded\n"
     ]
    }
   ],
   "source": [
    "word_to_vec = api.load('word2vec-google-news-300')"
   ]
  },
  {
   "cell_type": "code",
   "execution_count": 90,
   "id": "5129ff00",
   "metadata": {},
   "outputs": [
    {
     "data": {
      "text/plain": [
       "[('Sir_Sean_Connery', 0.7042174339294434),\n",
       " ('Connery', 0.6619505286216736),\n",
       " ('suave_superspy', 0.5929631590843201),\n",
       " ('Actress_Diane_Cilento', 0.5910488367080688),\n",
       " ('Michael_Caine', 0.5890588760375977),\n",
       " ('Pierce_Brosnan', 0.5874243378639221),\n",
       " ('Casino_Royale', 0.5666813254356384),\n",
       " ('Bond_baddie', 0.5622133612632751),\n",
       " ('starring_Sean_Connery', 0.5520477294921875),\n",
       " ('Anthony_Hopkins', 0.55103600025177)]"
      ]
     },
     "execution_count": 90,
     "metadata": {},
     "output_type": "execute_result"
    }
   ],
   "source": [
    "word_to_vec.most_similar('Sean_Connery')"
   ]
  },
  {
   "cell_type": "code",
   "execution_count": 91,
   "id": "0a143057",
   "metadata": {},
   "outputs": [
    {
     "data": {
      "text/plain": [
       "[('villain', 0.8881464004516602),\n",
       " ('baddy', 0.880936861038208),\n",
       " ('baddies', 0.8560189008712769),\n",
       " ('villainous', 0.8446329832077026),\n",
       " ('villian', 0.8404598832130432),\n",
       " ('henchman', 0.8326914310455322),\n",
       " ('villains', 0.832514226436615),\n",
       " ('supervillain', 0.8206661343574524),\n",
       " ('villainess', 0.8175042271614075),\n",
       " ('Fleshcreep', 0.8083468079566956)]"
      ]
     },
     "execution_count": 91,
     "metadata": {},
     "output_type": "execute_result"
    }
   ],
   "source": [
    "word_to_vec.most_similar_cosmul(positive=['baddie'])"
   ]
  },
  {
   "cell_type": "code",
   "execution_count": 88,
   "id": "80327748",
   "metadata": {},
   "outputs": [
    {
     "data": {
      "text/plain": [
       "[('Max_von_Sydow', 0.9610720872879028),\n",
       " ('villain', 0.9472486972808838),\n",
       " ('Terence_Stamp', 0.9387532472610474),\n",
       " ('baddy', 0.9357966780662537),\n",
       " ('villainous', 0.9325399994850159),\n",
       " ('Obi_wan_Kenobi', 0.9267368316650391),\n",
       " ('titular_character', 0.9256188273429871),\n",
       " ('Natasha_Fatale', 0.9231516122817993),\n",
       " ('Lord_Farquaad', 0.9219183325767517),\n",
       " ('Ian_McKellan', 0.9209936857223511)]"
      ]
     },
     "execution_count": 88,
     "metadata": {},
     "output_type": "execute_result"
    }
   ],
   "source": [
    "word_to_vec.most_similar_cosmul(positive=['Sean_Connery','baddie'],negative=['Bond'])"
   ]
  }
 ],
 "metadata": {
  "kernelspec": {
   "display_name": "Python 3 (ipykernel)",
   "language": "python",
   "name": "python3"
  },
  "language_info": {
   "codemirror_mode": {
    "name": "ipython",
    "version": 3
   },
   "file_extension": ".py",
   "mimetype": "text/x-python",
   "name": "python",
   "nbconvert_exporter": "python",
   "pygments_lexer": "ipython3",
   "version": "3.8.16"
  }
 },
 "nbformat": 4,
 "nbformat_minor": 5
}
